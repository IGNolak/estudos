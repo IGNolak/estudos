{
 "cells": [
  {
   "cell_type": "code",
   "execution_count": null,
   "id": "e96bc5d0-54fc-4ea5-826c-8ee626fb89e7",
   "metadata": {},
   "outputs": [],
   "source": [
    "from selenium import webdriver\n",
    "from webdriver_manager.firefox import GeckoDriverManager\n",
    "from selenium.webdriver.firefox.service import Service\n",
    "from selenium.webdriver.common.by import By\n",
    "from selenium.webdriver.support.ui import WebDriverWait\n",
    "from selenium.webdriver.support import expected_conditions as EC\n",
    "from PIL import Image\n",
    "import pytesseract\n",
    "import time\n",
    "from selenium.webdriver.support.ui import Select\n",
    "import os\n",
    "import pandas as pd\n",
    "from selenium.common.exceptions import UnexpectedAlertPresentException, NoAlertPresentException\n",
    "pytesseract.pytesseract.tesseract_cmd = r'C:\\Program Files\\Tesseract-OCR\\tesseract.exe'\n",
    "import html5lib\n",
    "import chardet\n",
    "import re"
   ]
  },
  {
   "cell_type": "code",
   "execution_count": null,
   "id": "c7049508-0fe8-4f27-a902-0dfd82423144",
   "metadata": {},
   "outputs": [],
   "source": [
    "#Aqui está montado o bloco que irá inicializar o navegador(mozilla)\n",
    "def iniciar_navegador():\n",
    "    servico = Service(GeckoDriverManager().install())\n",
    "    navegador = webdriver.Firefox(service=servico)\n",
    "    return navegador\n",
    "#O bloco de acesso a página da IBRAPE\n",
    "def acessar_pagina(navegador, url):\n",
    "    navegador.get(url)\n",
    "#bLOCO\n",
    "def realizar_login(navegador, cpf, matricula, senha, nivel):\n",
    "    WebDriverWait(navegador, 10).until(\n",
    "        EC.presence_of_element_located((By.XPATH, '//*[@id=\"cpf\"]'))\n",
    "    ).send_keys(cpf)\n",
    "    navegador.find_element(By.XPATH, '//*[@id=\"matricula\"]').send_keys(matricula)\n",
    "    navegador.find_element(By.XPATH, '//*[@id=\"senha\"]').send_keys(senha)\n",
    "    navegador.find_element(By.XPATH, '//*[@id=\"nivel\"]').send_keys(nivel)\n",
    "\n",
    "def resolver_captcha(navegador):\n",
    "    captcha_image = navegador.find_element(By.XPATH, '/html/body/table/tbody/tr/td/table/tbody/tr/td/table/tbody/tr/td[3]/table/tbody/tr[2]/td/form/p[5]/img')\n",
    "    captcha_image.screenshot('captcha.png')\n",
    "\n",
    "    image = Image.open('captcha.png')\n",
    "    captcha_text = pytesseract.image_to_string(image)\n",
    "\n",
    "    captcha_input = navegador.find_element(By.XPATH, '//*[@id=\"security_code\"]')\n",
    "    captcha_input.send_keys(captcha_text)\n",
    "\n",
    "def tentar_login_novamente(navegador, cpf, matricula, senha, nivel, url_sucesso):\n",
    "    while True:\n",
    "        try:\n",
    "            # Preenche os campos de login e tenta resolver o CAPTCHA\n",
    "            realizar_login(navegador, cpf, matricula, senha, nivel)\n",
    "            resolver_captcha(navegador)\n",
    "            \n",
    "            # Clica no botão de login\n",
    "            navegador.find_element(By.XPATH, '/html/body/table/tbody/tr/td/table/tbody/tr/td/table/tbody/tr/td[3]/table/tbody/tr[2]/td/form/p[6]/a/table/tbody/tr/td').click()\n",
    "            \n",
    "            time.sleep(4)  # Aguarda o redirecionamento pós-login\n",
    "            \n",
    "            # Verifica se o login foi bem-sucedido\n",
    "            if navegador.current_url == url_sucesso:\n",
    "                print(\"Login realizado com sucesso!\")\n",
    "                break\n",
    "            else:\n",
    "                print(\"Falha no login. Tentando novamente...\")\n",
    "        except UnexpectedAlertPresentException:\n",
    "            try:\n",
    "                # Captura e trata o alerta\n",
    "                alerta = navegador.switch_to.alert\n",
    "                print(f\"Alerta detectado: {alerta.text}\")\n",
    "                alerta.dismiss()\n",
    "            except NoAlertPresentException:\n",
    "                print(\"Nenhum alerta presente.\")\n",
    "        except Exception as e:\n",
    "            print(f\"Ocorreu um erro inesperado: {e}\")\n",
    "        finally:\n",
    "            time.sleep(2)  # Aguarda antes de tentar novamente\n",
    "\n",
    "if __name__ == \"__main__\":\n",
    "    url_login = \"https://prefeituradeitaborai.online/engine.php?m=pref_login_fiscalizacao\"\n",
    "    url_sucesso = \"https://prefeituradeitaborai.online/engine.php?m=pref_home_fiscal\"\n",
    "    cpf = \"177.744.327-01\"\n",
    "    matricula = \"48006\"\n",
    "    senha = \"723447\"\n",
    "    nivel = \"Nível 3\"\n",
    "    \n",
    "    navegador = iniciar_navegador()\n",
    "    acessar_pagina(navegador, url_login)\n",
    "    tentar_login_novamente(navegador, cpf, matricula, senha, nivel, url_sucesso)\n",
    "    \n",
    "    # Continue com o restante do código após o login bem-sucedido\n",
    "\n",
    "    # Navegar para a página de relatórios do sistema (BI)\n",
    "    WebDriverWait(navegador, 10).until(\n",
    "        EC.element_to_be_clickable((By.XPATH, '/html/body/table/tbody/tr/td/table/tbody/tr/td/table/tbody/tr/td[1]/table[2]/tbody/tr[31]/td'))\n",
    "    ).click()\n",
    "    \n",
    "    WebDriverWait(navegador, 10).until(\n",
    "        EC.element_to_be_clickable((By.XPATH, '/html/body/table/tbody/tr/td/table/tbody/tr/td/table/tbody/tr/td[1]/table[2]/tbody/tr[49]/td'))\n",
    "    ).click()\n",
    "\n",
    "    # Loop para extrair relatórios de 02/2022 até 07/2024\n",
    "    mes_inicial = 2\n",
    "    ano_inicial = 2022\n",
    "    mes_final = 2\n",
    "    ano_final = 2025\n",
    "\n",
    "    ano_atual = ano_inicial\n",
    "    mes_atual = mes_inicial\n",
    "\n",
    "    while (ano_atual < ano_final) or (ano_atual == ano_final and mes_atual <= mes_final):\n",
    "        competencia = f'{mes_atual:02d}/{ano_atual}'\n",
    "        \n",
    "        select_element = WebDriverWait(navegador, 10).until(\n",
    "            EC.element_to_be_clickable((By.XPATH, '//*[@id=\"datainicialId\"]'))\n",
    "        )\n",
    "        Select(select_element).select_by_visible_text(competencia)\n",
    "        \n",
    "        # Clicar para gerar o relatório\n",
    "        gerar_relatorio = WebDriverWait(navegador, 10).until(\n",
    "            EC.element_to_be_clickable((By.XPATH, '/html/body/table/tbody/tr/td/table/tbody/tr/td/table/tbody/tr/td[3]/table/tbody/tr[2]/td/div[1]/div[1]/form/div[2]/input'))\n",
    "        )\n",
    "        navegador.execute_script(\"arguments[0].click();\", gerar_relatorio)\n",
    "        time.sleep(15)\n",
    "        \n",
    "        # Clicar para baixar o relatório\n",
    "        baixar_relatorio = WebDriverWait(navegador, 15).until(\n",
    "            EC.element_to_be_clickable((By.XPATH, '/html/body/table/tbody/tr/td/table/tbody/tr/td/table/tbody/tr/td[3]/table/tbody/tr[2]/td/div[3]/form/button'))\n",
    "        )\n",
    "        navegador.execute_script(\"arguments[0].click();\", baixar_relatorio)\n",
    "        time.sleep(12)\n",
    "        \n",
    "        # Voltar para selecionar outra competência\n",
    "        voltar_pagina = WebDriverWait(navegador, 15).until(\n",
    "            EC.element_to_be_clickable((By.XPATH, '/html/body/table/tbody/tr/td/table/tbody/tr/td/table/tbody/tr/td[1]/table/tbody/tr[49]/td'))\n",
    "        )\n",
    "        navegador.execute_script(\"arguments[0].click();\", voltar_pagina)\n",
    "        time.sleep(10)\n",
    "        \n",
    "        mes_atual += 1\n",
    "        if mes_atual > 12:\n",
    "            mes_atual = 1\n",
    "            ano_atual += 1"
   ]
  },
  {
   "cell_type": "code",
   "execution_count": null,
   "id": "ccfb2e35-f596-459e-8c8b-41141511a72f",
   "metadata": {},
   "outputs": [],
   "source": [
    "#path = r'C:\\Users\\User\\Documents\\petrobrasnotas'"
   ]
  },
  {
   "cell_type": "code",
   "execution_count": null,
   "id": "9f117a14-382c-4d77-9eba-85170c873c21",
   "metadata": {},
   "outputs": [],
   "source": [
    "#Direciona a pasta dos arquivos e altera o tipo do arquvi para HTML\n",
    "path = r'C:\\Users\\User\\OneDrive\\Documentos\\notaspetrobras'\n",
    "files = os.listdir(path)\n",
    "\n",
    "\n",
    "for index, file in enumerate(files):\n",
    "    os.rename(os.path.join(path, file), os.path.join(path, ''.join([str(index), '.html'])))"
   ]
  },
  {
   "cell_type": "code",
   "execution_count": null,
   "id": "e54757cb-0caa-46d5-a70f-8db2a903c811",
   "metadata": {},
   "outputs": [],
   "source": [
    "# with open(r'C:\\Users\\User\\Documents\\petrobrasnotas\\0.html', 'r', encoding='utf-8') as f:\n",
    "#     conteudo = f.read()"
   ]
  },
  {
   "cell_type": "code",
   "execution_count": null,
   "id": "7b3f0a27-851f-4af9-830c-b68555173070",
   "metadata": {},
   "outputs": [],
   "source": [
    "# conteudo"
   ]
  },
  {
   "cell_type": "code",
   "execution_count": null,
   "id": "0a64046a-1149-4f13-8d33-11215cb2abb9",
   "metadata": {},
   "outputs": [],
   "source": [
    "colunas = [\n",
    "    'Emissor', 'Tomador', 'Nota', 'Dia', 'Mes/Ano', 'Vlr Nota', 'Deducao',\n",
    "    'Base', 'ISS', 'Cancelada', 'Tributacao', 'Codigo', 'Descricao', 'Aliquota', 'DAM', 'Arquivo_Origem'\n",
    "]\n",
    "\n",
    "# Criar dicionário de conversores para forçar todas as colunas como strings\n",
    "converters = {col: str for col in colunas}\n",
    "converters"
   ]
  },
  {
   "cell_type": "code",
   "execution_count": null,
   "id": "fd8fa9de-cd4f-4327-b1b4-517148297f24",
   "metadata": {},
   "outputs": [],
   "source": [
    "# Diretório dos arquivos HTML\n",
    "path = r\"C:\\Users\\User\\OneDrive\\Documentos\\notaspetrobras\"\n",
    "\n",
    "# Lista para armazenar DataFrames\n",
    "dataFrames = []\n",
    "\n",
    "# Iterar sobre os arquivos HTML na pasta\n",
    "for arquivo in os.listdir(path):\n",
    "    if arquivo.endswith('.html'):\n",
    "        caminho_arquivo = os.path.join(path, arquivo)\n",
    "\n",
    "        # Ler todas as tabelas do arquivo HTML\n",
    "        tabelas = pd.read_html(caminho_arquivo, keep_default_na=False, converters=converters ) # Evita que valores vazios sejam convertidos para NaN\n",
    "\n",
    "        # Adicionar todas as tabelas lidas à lista\n",
    "        for df in tabelas:\n",
    "            # Adicionar uma coluna com o nome do arquivo\n",
    "            df['Arquivo_Origem'] = arquivo\n",
    "            \n",
    "            dataFrames.append(df)\n",
    "\n",
    "# Concatenar todas as tabelas em um único DataFrame mantendo a exatidão dos dados\n",
    "df_concatenado = pd.concat(dataFrames, ignore_index=True)\n",
    "\n",
    "\n",
    "df_concatenado"
   ]
  },
  {
   "cell_type": "code",
   "execution_count": null,
   "id": "df394f38-2e3c-4564-814f-7c70d5f855b7",
   "metadata": {},
   "outputs": [],
   "source": [
    "def limpar_numeros(df, colunas):\n",
    "    \"\"\"\n",
    "    Remove pontos, vírgulas, letras e caracteres especiais das colunas especificadas,\n",
    "    deixando apenas os números.\n",
    "\n",
    "    Parâmetros:\n",
    "    df (pd.DataFrame): O DataFrame contendo os dados.\n",
    "    colunas (list): Lista de colunas para limpar.\n",
    "\n",
    "    Retorna:\n",
    "    pd.DataFrame: O DataFrame com as colunas limpas.\n",
    "    \"\"\"\n",
    "    for coluna in colunas:\n",
    "        if coluna in df.columns:\n",
    "            # Aplica uma expressão regular para manter apenas os números\n",
    "            df[coluna] = df[coluna].apply(lambda x: re.sub(r'[^0-9]', '', str(x)))\n",
    "    return df\n",
    "\n",
    "\n",
    "colunas_para_limpar = ['Vlr Nota', 'Deducao', 'Base', 'ISS']\n",
    "df_limpo = limpar_numeros(df_concatenado, colunas_para_limpar)\n",
    "df_limpo"
   ]
  },
  {
   "cell_type": "code",
   "execution_count": null,
   "id": "fb2c02ca-4507-4ab5-91db-c02fa5f32606",
   "metadata": {},
   "outputs": [],
   "source": [
    "cnpjs_para_excluir = ['21.004.012/0001-64', '77.580.066/0001-22','37.249.433/0001-95','47.621.331/0001-02','19.411.731/0001-58', '12.216.767/0001-31', '11.898.201/0001-74',  '12.221.498/0001-00', '21.877.832/0001-60', '63.838.133/0001-51',  '45.738.773/0001-08', '97.624.678/0001-87', '33.918.233/0001-27',  '20.720.313/0001-21', '83.165.370/0001-06', '85.809.284/0001-14']"
   ]
  },
  {
   "cell_type": "code",
   "execution_count": null,
   "id": "686f4414-81fd-45a7-86bd-07bc3d3d1626",
   "metadata": {},
   "outputs": [],
   "source": [
    "# nota = 99000005\n",
    "# # emissor = '15.563.826/0002-17'"
   ]
  },
  {
   "cell_type": "code",
   "execution_count": null,
   "id": "38130e04-3123-45ee-b27f-7aea77413dd9",
   "metadata": {},
   "outputs": [],
   "source": [
    "#df_filtrado = df_concatenado[(df_concatenado[\"Nota\"] == nota) & (df_concatenado[\"Emissor\"] == emissor)]"
   ]
  },
  {
   "cell_type": "code",
   "execution_count": null,
   "id": "8d7f4001-3e23-47ef-ba59-51f47a261b01",
   "metadata": {},
   "outputs": [],
   "source": [
    "# Filtrar o DataFrame, removendo os CNPJs indesejados\n",
    "df_limpo = df_limpo[~df_limpo[\"Emissor\"].isin(cnpjs_para_excluir)]"
   ]
  },
  {
   "cell_type": "code",
   "execution_count": null,
   "id": "9d6c1b2e",
   "metadata": {},
   "outputs": [],
   "source": [
    "mapeamento_dam = {\n",
    "    (\"15.563.826/0002-17\", \"33.000.167/0125-41\", \"99000021\"): \"105168\",\n",
    "    (\"15.563.826/0002-17\", \"33.000.167/0125-41\", \"99000023\"): \"105168\",\n",
    "    (\"16.273.641/0001-50\", \"33.000.167/0125-41\", \"99000023\"): \"105168\",\n",
    "    (\"16.273.641/0001-50\", \"33.000.167/0125-41\", \"99000021\"): \"105168\",\n",
    "    (\"00.516.634/0001-00\", \"33.000.167/0125-41\", \"99000001\"): \"110563\",\n",
    "    (\"07.432.517/0001-07\", \"33.000.167/0125-41\", \"99000003\"): \"101397\",\n",
    "    (\"07.432.517/0001-07\", \"33.000.167/0125-41\", \"99000004\"): \"101397\",\n",
    "    (\"17.164.435/0001-74\", \"33.000.167/0125-41\", \"99000007\"): \"115636\",\n",
    "    (\"03.560.020/0001-05\", \"33.000.167/0125-41\", \"99000103\"): \"110891\",\n",
    "    (\"07.432.517/0001-07\", \"33.000.167/0125-41\", \"99000078\"): \"129513\",\n",
    "    (\"07.356.428/0002-00\", \"33.000.167/0125-41\", \"99000006\"): \"129513\",\n",
    "    (\"07.432.517/0001-07\", \"33.000.167/0125-41\", \"99000077\"): \"127022\",\n",
    "    (\"16.273.641/0002-30\", \"33.000.167/0125-41\", \"99000007\"): \"129457\",\n",
    "    (\"07.432.517/0001-07\", \"33.000.167/0125-41\", \"99000074\"): \"127022\",\n",
    "    (\"07.432.517/0001-07\", \"33.000.167/0125-41\", \"99000073\"): \"127022\",\n",
    "    (\"07.432.517/0001-07\", \"33.000.167/0125-41\", \"99000070\"): \"126110\",\n",
    "    (\"07.432.517/0001-07\", \"33.000.167/0125-41\", \"99000071\"): \"126110\",\n",
    "    (\"07.432.517/0001-07\", \"33.000.167/0125-41\", \"99000068\"): \"127042\",\n",
    "    (\"07.432.517/0001-07\", \"33.000.167/0125-41\", \"99000066\"): \"125350\",\n",
    "    (\"07.432.517/0001-07\", \"33.000.167/0125-41\", \"99000067\"): \"125350\",\n",
    "    (\"07.432.517/0001-07\", \"33.000.167/0125-41\", \"99000065\"): \"126111\",\n",
    "    (\"07.432.517/0001-07\", \"33.000.167/0125-41\", \"99000064\"): \"123874\",\n",
    "    (\"07.432.517/0001-07\", \"33.000.167/0125-41\", \"99000062\"): \"123089\",\n",
    "    (\"07.432.517/0001-07\", \"33.000.167/0125-41\", \"99000063\"): \"123089\",\n",
    "    (\"07.432.517/0001-07\", \"33.000.167/0125-41\", \"99000061\"): \"123089\",\n",
    "    (\"07.432.517/0001-07\", \"33.000.167/0125-41\", \"99000056\"): \"121162\",\n",
    "    (\"07.432.517/0001-07\", \"33.000.167/0125-41\", \"99000057\"): \"121162\",\n",
    "}\n",
    "\n",
    "\n",
    "mapeamento_canc = {\n",
    "    (\"15.563.826/0002-17\", \"33.000.167/0125-41\", \"99000080\"): \"SIM\",\n",
    "    (\"15.063.096/0011-86\", \"33.000.167/0125-41\", \"99000024\"): \"SIM\",\n",
    "    (\"15.563.826/0002-17\", \"33.000.167/0125-41\", \"99000109\"): \"SIM\"\n",
    "}\n",
    "\n",
    "\n",
    "df_limpo = df_limpo.copy()\n",
    "df_limpo[\"chave\"] = list(zip(df_limpo[\"Emissor\"], df_limpo[\"Tomador\"], df_limpo[\"Nota\"]))\n"
   ]
  },
  {
   "cell_type": "code",
   "execution_count": null,
   "id": "84efd0e0",
   "metadata": {},
   "outputs": [],
   "source": [
    "df_afetadas_dam = df_limpo[df_limpo[\"chave\"].isin(mapeamento_dam.keys())].copy()\n",
    "df_afetadas_canceladas = df_limpo[df_limpo[\"chave\"].isin(mapeamento_canc.keys())].copy()"
   ]
  },
  {
   "cell_type": "code",
   "execution_count": null,
   "id": "a8d55344",
   "metadata": {},
   "outputs": [],
   "source": [
    "print(\"\\n🔹 Linhas ANTES da atualização (mapeamento_dam):\")\n",
    "df_afetadas_dam"
   ]
  },
  {
   "cell_type": "code",
   "execution_count": null,
   "id": "98564441",
   "metadata": {},
   "outputs": [],
   "source": [
    "print(\"\\n🔹 Linhas ANTES da atualização (notas canceladas):\")\n",
    "df_afetadas_canceladas"
   ]
  },
  {
   "cell_type": "code",
   "execution_count": null,
   "id": "d2fbda82",
   "metadata": {},
   "outputs": [],
   "source": [
    "# Atualizar a coluna \"DAM\"\n",
    "df_limpo[\"DAM\"] = df_limpo[\"chave\"].map(mapeamento_dam).fillna(df_limpo[\"DAM\"])\n",
    "\n",
    "# Atualizar a coluna \"Cancelada\"\n",
    "df_limpo[\"Cancelada\"] = df_limpo[\"chave\"].map(mapeamento_canc).fillna(df_limpo[\"Cancelada\"])"
   ]
  },
  {
   "cell_type": "code",
   "execution_count": null,
   "id": "11486474",
   "metadata": {},
   "outputs": [],
   "source": [
    "df_att = df_limpo[df_limpo[\"chave\"].isin(mapeamento_dam.keys()) | df_limpo[\"chave\"].isin(mapeamento_canc.keys())].copy()\n",
    "\n",
    "print(\"\\n✅ Linhas DEPOIS da atualização:\")\n",
    "df_att"
   ]
  },
  {
   "cell_type": "code",
   "execution_count": null,
   "id": "ca10139c",
   "metadata": {},
   "outputs": [],
   "source": [
    "df_att.drop(columns=[\"chave\"], inplace=True)"
   ]
  },
  {
   "cell_type": "code",
   "execution_count": null,
   "id": "470e3c58",
   "metadata": {},
   "outputs": [],
   "source": [
    "df_att"
   ]
  },
  {
   "cell_type": "code",
   "execution_count": null,
   "id": "695055e4",
   "metadata": {},
   "outputs": [],
   "source": [
    "df_final = df_limpo.copy()\n",
    "df_final"
   ]
  },
  {
   "cell_type": "code",
   "execution_count": null,
   "id": "94a495b5-50d7-4bc9-a7de-fa7e50d0c64b",
   "metadata": {},
   "outputs": [],
   "source": [
    "novo_arquivo_path = r'C:\\Users\\User\\Desktop\\fIBRAPE.csv'\n",
    "df_final.to_csv(novo_arquivo_path, index=False)"
   ]
  },
  {
   "cell_type": "code",
   "execution_count": null,
   "id": "6587f9e2-988c-4bd1-9335-dad071548734",
   "metadata": {},
   "outputs": [],
   "source": [
    "novo_arquivo_path"
   ]
  }
 ],
 "metadata": {
  "kernelspec": {
   "display_name": "base",
   "language": "python",
   "name": "python3"
  },
  "language_info": {
   "codemirror_mode": {
    "name": "ipython",
    "version": 3
   },
   "file_extension": ".py",
   "mimetype": "text/x-python",
   "name": "python",
   "nbconvert_exporter": "python",
   "pygments_lexer": "ipython3",
   "version": "3.12.7"
  }
 },
 "nbformat": 4,
 "nbformat_minor": 5
}
